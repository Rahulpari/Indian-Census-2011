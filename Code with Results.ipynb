{
 "cells": [
  {
   "cell_type": "markdown",
   "id": "66b28825",
   "metadata": {},
   "source": [
    "#### UNDERSTANDING THE DATA\n",
    "##### Create a schema 'census' and import table d1, d2 to the schema"
   ]
  },
  {
   "cell_type": "code",
   "execution_count": null,
   "id": "6026e8c7",
   "metadata": {},
   "outputs": [],
   "source": [
    "SELECT * FROM census.d1;\n",
    "SELECT * FROM census.d2;\n",
    "DESCRIBE census.d1;"
   ]
  },
  {
   "cell_type": "markdown",
   "id": "78d27508",
   "metadata": {},
   "source": [
    "| District   | text | YES |\n",
    "| ---------- | ---- | --- |\n",
    "| State      | text | YES |\n",
    "| Area_km2   | text | YES |\n",
    "| Population | text | YES |"
   ]
  },
  {
   "cell_type": "code",
   "execution_count": null,
   "id": "f70996c8",
   "metadata": {},
   "outputs": [],
   "source": [
    "DESCRIBE census.d2;"
   ]
  },
  {
   "cell_type": "markdown",
   "id": "2c881902",
   "metadata": {},
   "source": [
    "| District  | text   | YES |\n",
    "| --------- | ------ | --- |\n",
    "| State     | text   | YES |\n",
    "| Growth    | text   | YES |\n",
    "| Sex_Ratio | int    | YES |\n",
    "| Literacy  | double | YES |"
   ]
  },
  {
   "cell_type": "code",
   "execution_count": null,
   "id": "7a6c6b96",
   "metadata": {},
   "outputs": [],
   "source": [
    "SELECT COUNT(*) FROM census.d1; \n",
    "#636\n",
    "SELECT COUNT(district) FROM census.d1;\n",
    "#636\n",
    "SELECT COUNT(DISTINCT district) FROM census.d1;\n",
    "#630\n",
    "SELECT COUNT(*) FROM census.d2;\n",
    "#640\n",
    "SELECT COUNT(district) FROM census.d2;\n",
    "#640\n",
    "SELECT COUNT(DISTINCT district) FROM census.d2;\n",
    "#634"
   ]
  },
  {
   "cell_type": "markdown",
   "id": "2136d1a1",
   "metadata": {},
   "source": [
    "#### INVESTIGATING DUPLICATES IN census.d1"
   ]
  },
  {
   "cell_type": "code",
   "execution_count": null,
   "id": "2e4ebbce",
   "metadata": {},
   "outputs": [],
   "source": [
    "DROP TABLE IF EXISTS census.d1_new;\n",
    "CREATE TABLE census.d1_new\n",
    "\t(SELECT *, \n",
    "\t\t\tROW_NUMBER() \n",
    "            OVER(PARTITION BY district\n",
    "            ORDER BY district) AS dupp\n",
    "FROM census.d1);\n",
    "\n",
    "SELECT * FROM census.d1\n",
    "WHERE district IN (SELECT district FROM census.d1_new\n",
    "\t\t\t\t\tWHERE dupp>1)\n",
    "ORDER BY district;\n",
    "\n",
    "DROP TABLE census.d1_new;"
   ]
  },
  {
   "cell_type": "markdown",
   "id": "9937090e",
   "metadata": {},
   "source": [
    "| District   | State            | Area_km2 | Population |\n",
    "| ---------- | ---------------- | -------- | ---------- |\n",
    "| Aurangabad | Maharashtra      | 10,107   | 37,01,282  |\n",
    "| Aurangabad | Bihar            | 3,305    | 25,40,073  |\n",
    "| Bijapur    | Karnataka        | 10,498   | 21,77,331  |\n",
    "| Bijapur    | Chhattisgarh     | 8,530    | 2,55,230   |\n",
    "| Bilaspur   | Himachal Pradesh | 1,167    | 3,81,956   |\n",
    "| Bilaspur   | Chhattisgarh     | 8,272    | 26,63,629  |\n",
    "| Hamirpur   | Uttar Pradesh    | 4,021    | 11,04,285  |\n",
    "| Hamirpur   | Himachal Pradesh | 1,118    | 4,54,768   |\n",
    "| Pratapgarh | Uttar Pradesh    | 3,717    | 32,09,141  |\n",
    "| Pratapgarh | Rajasthan        | 4,449    | 8,67,848   |\n",
    "| Raigarh    | Maharashtra      | 7,086    | 14,93,984  |\n",
    "| Raigarh    | Chhattisgarh     | 7,152    | 26,34,200  |"
   ]
  },
  {
   "cell_type": "markdown",
   "id": "c532feb4",
   "metadata": {},
   "source": [
    "#### INVESTIGATING DUPLICATES IN census.d1"
   ]
  },
  {
   "cell_type": "code",
   "execution_count": null,
   "id": "1ca7e918",
   "metadata": {},
   "outputs": [],
   "source": [
    "DROP TABLE IF EXISTS census.d2_new;\n",
    "CREATE TABLE census.d2_new\n",
    "\t(SELECT *, \n",
    "\t\t\tROW_NUMBER() \n",
    "            OVER(PARTITION BY district\n",
    "            ORDER BY district) AS dupp\n",
    "FROM census.d2);\n",
    "\n",
    "SELECT * FROM census.d2\n",
    "WHERE district IN (SELECT district FROM census.d2_new\n",
    "\t\t\t\t\tWHERE dupp>1)\n",
    "ORDER BY district;\n",
    "\n",
    "DROP TABLE census.d2_new;"
   ]
  },
  {
   "cell_type": "markdown",
   "id": "645c8067",
   "metadata": {},
   "source": [
    "| District   | State            | Growth | Sex_Ratio | Literacy |\n",
    "| ---------- | ---------------- | ------ | --------- | -------- |\n",
    "| Aurangabad | Maharashtra      | 0      | 923       | 79.02    |\n",
    "| Aurangabad | Bihar            | 0      | 926       | 70.32    |\n",
    "| Bijapur    | Karnataka        | 0      | 960       | 67.15    |\n",
    "| Bijapur    | Chhattisgarh     | 0      | 984       | 40.86    |\n",
    "| Bilaspur   | Chhattisgarh     | 0      | 971       | 70.78    |\n",
    "| Bilaspur   | Himachal Pradesh | 0      | 981       | 84.59    |\n",
    "| Hamirpur   | Uttar Pradesh    | 0      | 861       | 68.77    |\n",
    "| Hamirpur   | Himachal Pradesh | 0      | 1,095     | 88.15    |\n",
    "| Pratapgarh | Uttar Pradesh    | 0      | 998       | 70.09    |\n",
    "| Pratapgarh | Rajasthan        | 0      | 983       | 55.97    |\n",
    "| Raigarh    | Maharashtra      | 0      | 959       | 83.14    |\n",
    "| Raigarh    | Chhattisgarh     | 0      | 991       | 73.26    |"
   ]
  },
  {
   "cell_type": "markdown",
   "id": "dc4e4ac8",
   "metadata": {},
   "source": [
    "#### d1 + d2 = data WITH TYPE CASTING"
   ]
  },
  {
   "cell_type": "code",
   "execution_count": null,
   "id": "c9af7e35",
   "metadata": {},
   "outputs": [],
   "source": [
    "DROP TABLE IF EXISTS census.data;\n",
    "CREATE TABLE census.data\n",
    "(\n",
    "SELECT \n",
    "\td2.district, \n",
    "\td2.state, \n",
    "    CAST(REPLACE(d1.Population,',','') AS UNSIGNED) AS Population, \n",
    "    CAST(REPLACE(d1.Area_km2,',','') AS UNSIGNED) AS Area, \n",
    "    CAST(REPLACE(d2.Growth,',','') AS DECIMAL(9,2)) AS  Growth, \n",
    "    d2.Literacy, \n",
    "    d2.Sex_Ratio\n",
    "FROM census.d1 RIGHT JOIN census.d2\n",
    "ON d1.district = d2.district AND d1.state = d2.state\n",
    "ORDER BY state\n",
    ");\n",
    "\n",
    "SELECT * FROM census.data;\n",
    "DESCRIBE census.data;\n",
    "\n",
    "DELETE FROM census.data WHERE population IS NULL;"
   ]
  },
  {
   "cell_type": "markdown",
   "id": "be04679d",
   "metadata": {},
   "source": [
    "| Field      | Type            | Null |\n",
    "| ---------- | --------------- | ---- |\n",
    "| district   | text            | YES  |\n",
    "| state      | text            | YES  |\n",
    "| Population | bigint unsigned | YES  |\n",
    "| Area       | bigint unsigned | YES  |\n",
    "| Growth     | decimal(9,2)    | YES  |\n",
    "| Literacy   | double          | YES  |\n",
    "| Sex_Ratio  | int             | YES  |\n"
   ]
  },
  {
   "cell_type": "markdown",
   "id": "bc528f3d",
   "metadata": {},
   "source": [
    "#### Update table with literacy_sex_growth data"
   ]
  },
  {
   "cell_type": "code",
   "execution_count": null,
   "id": "5897d0af",
   "metadata": {},
   "outputs": [],
   "source": [
    "DROP PROCEDURE IF EXISTS drop_literacy_sex_growth_data;\n",
    "DELIMITER //\n",
    "\n",
    "CREATE PROCEDURE drop_literacy_sex_growth_data() BEGIN\n",
    "IF EXISTS (SELECT * FROM information_schema.COLUMNS WHERE table_schema = 'census' AND COLUMN_NAME = 'Literate') \n",
    "THEN ALTER TABLE census.data DROP COLUMN Literate;\n",
    "END IF;\n",
    " \n",
    "IF EXISTS (SELECT * FROM information_schema.COLUMNS WHERE table_schema = 'census' AND COLUMN_NAME = 'Illiterate') \n",
    "THEN ALTER TABLE census.data DROP COLUMN Illiterate;\n",
    "END IF;\n",
    " \n",
    "IF EXISTS (SELECT * FROM information_schema.COLUMNS WHERE table_schema = 'census' AND COLUMN_NAME = 'Male') \n",
    "THEN ALTER TABLE census.data DROP COLUMN Male;\n",
    "END IF;\n",
    " \n",
    "IF EXISTS (SELECT * FROM information_schema.COLUMNS WHERE table_schema = 'census' AND COLUMN_NAME = 'Female') \n",
    "THEN ALTER TABLE census.data DROP COLUMN Female;\n",
    "END IF;\n",
    "\n",
    "IF EXISTS (SELECT * FROM information_schema.COLUMNS WHERE table_schema = 'census' AND COLUMN_NAME = 'Prev_Population') \n",
    "THEN ALTER TABLE census.data DROP COLUMN Prev_Population;\n",
    "END IF;\n",
    "\n",
    "ALTER TABLE census.data ADD COLUMN Literate INTEGER;\n",
    "ALTER TABLE census.data ADD COLUMN Illiterate INTEGER;\n",
    "ALTER TABLE census.data ADD COLUMN Male INTEGER;\n",
    "ALTER TABLE census.data ADD COLUMN Female INTEGER;\n",
    "ALTER TABLE census.data ADD COLUMN Prev_Population INTEGER;\n",
    "\n",
    "END//\n",
    "DELIMITER ;\n",
    "\n",
    "CALL drop_literacy_sex_growth_data;\n",
    "\n",
    "UPDATE census.data SET literate = literacy/100 * population;\n",
    "UPDATE census.data SET illiterate = population - literate;\n",
    "UPDATE census.data SET male = population/(1+sex_ratio/1000);\n",
    "UPDATE census.data SET female = population - male;\n",
    "UPDATE census.data SET Prev_Population = population/(1+growth/100);\n",
    "\n",
    "DESCRIBE census.data;"
   ]
  },
  {
   "cell_type": "markdown",
   "id": "49240c5d",
   "metadata": {},
   "source": [
    "| district        | text            | YES |\n",
    "| --------------- | --------------- | --- |\n",
    "| state           | text            | YES |\n",
    "| Population      | bigint unsigned | YES |\n",
    "| Area            | bigint unsigned | YES |\n",
    "| Growth          | decimal(9,2)    | YES |\n",
    "| Literacy        | double          | YES |\n",
    "| Sex_Ratio       | int             | YES |\n",
    "| Literate        | int             | YES |\n",
    "| Illiterate      | int             | YES |\n",
    "| Male            | int             | YES |\n",
    "| Female          | int             | YES |\n",
    "| Prev_Population | int             | YES |"
   ]
  },
  {
   "cell_type": "markdown",
   "id": "5d06f08c",
   "metadata": {},
   "source": [
    "#### Data Summary"
   ]
  },
  {
   "cell_type": "code",
   "execution_count": null,
   "id": "7d729e20",
   "metadata": {},
   "outputs": [],
   "source": [
    "SELECT ROUND(MIN(Literacy),2), ROUND(MAX(Literacy),2), ROUND(AVG(Literacy),2) FROM census.data;\n",
    "SELECT ROUND(MIN(Literate)), ROUND(MAX(Literate)), ROUND(AVG(Literate)) FROM census.data;\n",
    "SELECT ROUND(MIN(Illiterate)), ROUND(MAX(Illiterate)), ROUND(AVG(Illiterate)) FROM census.data;\n",
    "\n",
    "SELECT ROUND(MIN(Sex_Ratio)), ROUND(MAX(Sex_Ratio)), ROUND(AVG(Sex_Ratio)) FROM census.data;\n",
    "SELECT ROUND(MIN(Male)), ROUND(MAX(Male)), ROUND(AVG(Male)) FROM census.data;\n",
    "SELECT ROUND(MIN(Female)), ROUND(MAX(Female)), ROUND(AVG(Female)) FROM census.data;\n",
    "\n",
    "SELECT ROUND(MIN(Growth),2), ROUND(MAX(Growth),2), ROUND(AVG(Growth),2) FROM census.data;\n",
    "SELECT ROUND(MIN(Prev_Population)), ROUND(MAX(Prev_Population)), ROUND(AVG(Prev_Population)) FROM census.data;\n",
    "SELECT ROUND(MIN(Population),2), ROUND(MAX(Population),2), ROUND(AVG(Population),2) FROM census.data;\n",
    "SELECT ROUND(MIN(Area),2), ROUND(MAX(Area),2), ROUND(AVG(Area),2) FROM census.data;"
   ]
  },
  {
   "cell_type": "markdown",
   "id": "e8ad3518",
   "metadata": {},
   "source": [
    "| Field           | MIN     | MAX      | AVG     |\n",
    "| --------------- | ------- | -------- | ------- |\n",
    "| Literacy        | 36.1    | 97.91    | 72.3    |\n",
    "| Literate        | 5131    | 9349143  | 1376107 |\n",
    "| Illiterate      | 891     | 2373382  | 517338  |\n",
    "|                 |         |          |         |\n",
    "| Sex Ratio       | 534     | 1184     | 946     |\n",
    "| Male            | 4415    | 5864341  | 974534  |\n",
    "| Female          | 3589    | 5195807  | 918911  |\n",
    "|                 |         |          |         |\n",
    "| Growth          | \\-21.57 | 131.81   | 19.24   |\n",
    "| Prev_Population | 7272    | 8934114  | 1608172 |\n",
    "| Population      | 8004    | 11060148 | 1893445 |\n",
    "| Area            | 9       | 45674    | 4955.9  |"
   ]
  },
  {
   "cell_type": "markdown",
   "id": "416354d1",
   "metadata": {},
   "source": [
    "#### INDIA's DEMOGRAPHICS"
   ]
  },
  {
   "cell_type": "code",
   "execution_count": null,
   "id": "c58b8dcb",
   "metadata": {},
   "outputs": [],
   "source": [
    "SELECT\n",
    "       ROUND(AVG(Literacy),2) AS Avg_Literacy_rate_India, \n",
    "       ROUND(SUM(Literate)/SUM(population)*100,2) AS Act_literacy_rate_India,\n",
    "       ROUND(SUM(population),2) AS Tot_Pop_India,\n",
    "       ROUND(AVG(literate)) AS Avg_Literate_India, \n",
    "       ROUND(AVG(illiterate)) AS Avg_Illiterate_India,\n",
    "       \n",
    "       ROUND(AVG(Sex_Ratio)) AS Avg_Sex_Ratio_India,\n",
    "       ROUND(SUM(Female)/SUM(Male)*1000,2) AS Act_Sex_Ratio_India,\n",
    "       ROUND(AVG(male)) AS Avg_Male_India,\n",
    "\t   ROUND(AVG(female)) AS Avg_Female_India, \n",
    "       \n",
    "       ROUND(SUM(prev_population)) AS Tot_Prev_Pop_India,\n",
    "       ROUND(SUM(Area),2) AS Tot_Area_India, \n",
    "       ROUND(SUM(population)/SUM(area),2) AS density_India,\n",
    "       ROUND(SUM(prev_population)/SUM(area),2) AS Prev_density_India,\n",
    "       ROUND(AVG(growth),2) AS Avg_growth_rate_India,\n",
    "\t   ROUND(((SUM(population)-SUM(prev_population))/SUM(prev_population))*100,2) AS Act_growth_rate_India\n",
    "FROM census.data;"
   ]
  },
  {
   "cell_type": "markdown",
   "id": "f60d6e42",
   "metadata": {},
   "source": [
    "| Avg_Literacy_rate_India | Act_literacy_rate_India | Tot_Pop_India | Avg_Literate_India | Avg_Illiterate_India | Avg_Sex_Ratio_India | Act_Sex_Ratio_India | Avg_Male_India | Avg_Female_India | Tot_Prev_Pop_India | Tot_Area_India | density_India | Prev_density_India | Avg_growth_rate_India | Act_growth_rate_India |\n",
    "| ----------------------- | ----------------------- | ------------- | ------------------ | -------------------- | ------------------- | ------------------- | -------------- | ---------------- | ------------------ | -------------- | ------------- | ------------------ | --------------------- | --------------------- |\n",
    "| 72.3                    | 72.68                   | 1.2E+09       | 1376107            | 517338               | 946                 | 942.92              | 974534         | 918911           | 1.02E+09           | 3146998        | 382.06        | 324.5              | 19.24                 | 17.74                 |"
   ]
  },
  {
   "cell_type": "markdown",
   "id": "cfe2a4cb",
   "metadata": {},
   "source": [
    "#### DEMOGRAPHICS BY STATE"
   ]
  },
  {
   "cell_type": "code",
   "execution_count": null,
   "id": "68b4350b",
   "metadata": {},
   "outputs": [],
   "source": [
    "SELECT state, \n",
    "\t   ROUND(AVG(Literacy),2) AS Avg_Literacy_rate, \n",
    "       ROUND(SUM(Literate)/SUM(population)*100,2) AS Act_literacy_rate,\n",
    "       ROUND(SUM(population),2) AS Tot_Pop,\n",
    "       ROUND(AVG(literate)) AS Avg_Literate, \n",
    "       ROUND(AVG(illiterate)) AS Avg_Illiterate,\n",
    "       \n",
    "       ROUND(AVG(Sex_Ratio)) AS Avg_Sex_Ratio,\n",
    "       ROUND(SUM(Female)/SUM(Male)*1000,2) AS Act_Sex_Ratio,\n",
    "       ROUND(AVG(male)) AS Avg_Male,\n",
    "\t   ROUND(AVG(female)) AS Avg_Female, \n",
    "       \n",
    "       ROUND(SUM(prev_population)) AS Tot_Prev_Pop,\n",
    "       ROUND(SUM(Area),2) AS Tot_Area, \n",
    "       ROUND(SUM(population)/SUM(area),2) AS density,\n",
    "       ROUND(SUM(prev_population)/SUM(area),2) AS Prev_density,\n",
    "       ROUND(AVG(growth),2) AS Avg_growth_rate,\n",
    "\t   ROUND(((SUM(population)-SUM(prev_population))/SUM(prev_population))*100,2) AS Act_growth_rate\n",
    "FROM census.data\n",
    "GROUP BY state\n",
    "ORDER BY state;"
   ]
  },
  {
   "cell_type": "markdown",
   "id": "e50171bd",
   "metadata": {},
   "source": [
    "| State                       | Avg_Literacy_rate_India | Act_literacy_rate_India | Tot_Pop_India | Avg_Literate_India | Avg_Illiterate_India | Avg_Sex_Ratio_India | Act_Sex_Ratio_India | Avg_Male_India | Avg_Female_India | Tot_Prev_Pop_India | Tot_Area_India | density_India | Prev_density_India | Avg_growth_rate_India | Act_growth_rate_India |\n",
    "| --------------------------- | ----------------------- | ----------------------- | ------------- | ------------------ | -------------------- | ------------------- | ------------------- | -------------- | ---------------- | ------------------ | -------------- | ------------- | ------------------ | --------------------- | --------------------- |\n",
    "| Andaman And Nicobar Islands | 83.7                    | 86.61                   | 380581        | 109874             | 16987                | 858                 | 875.98              | 67623          | 59237            | 356161             | 8249           | 46.14         | 43.18              | 0.6                   | 6.86                  |\n",
    "| Andhra Pradesh              | 66.29                   | 67                      | 84580777      | 2463986            | 1213439              | 995                 | 992.97              | 1845201        | 1832224          | 76209715           | 275045         | 307.52        | 277.08             | 10.92                 | 10.98                 |\n",
    "| Arunachal Pradesh           | 63.86                   | 65.24                   | 1383727       | 56420              | 30063                | 920                 | 938.18              | 44621          | 41862            | 1097968            | 83743          | 16.52         | 13.11              | 27.81                 | 26.03                 |\n",
    "| Assam                       | 72.25                   | 72.05                   | 31205576      | 832756             | 323006               | 958                 | 957.71              | 590365         | 565397           | 26655449           | 78438          | 397.84        | 339.83             | 16.52                 | 17.07                 |\n",
    "| Bihar                       | 61.76                   | 61.71                   | 1.04E+08      | 1690433            | 1049026              | 918                 | 917.9               | 1428361        | 1311099          | 82998803           | 94163          | 1105.52       | 881.44             | 25.23                 | 25.42                 |\n",
    "| Chandigarh                  | 86.05                   | 86.05                   | 1055450       | 908215             | 147235               | 818                 | 818                 | 580556         | 474894           | 900631             | 114            | 9258.33       | 7900.27            | 17.19                 | 17.19                 |\n",
    "| Chhattisgarh                | 65.84                   | 70.33                   | 26685414      | 1042602            | 439921               | 995                 | 990.62              | 744754         | 737769           | 21799849           | 135258         | 197.29        | 161.17             | 20.04                 | 22.41                 |\n",
    "| Dadra and Nagar Haveli      | 76.24                   | 76.24                   | 343709        | 262044             | 81665                | 774                 | 774                 | 193748         | 149961           | 220496             | 491            | 700.02        | 449.08             | 55.88                 | 55.88                 |\n",
    "| Daman and Diu               | 85.76                   | 87.08                   | 243247        | 105914             | 15710                | 783                 | 618.8               | 75132          | 46492            | 158207             | 111            | 2191.41       | 1425.29            | 42.74                 | 53.75                 |\n",
    "| Delhi                       | 86.56                   | 85.76                   | 8172376       | 778695             | 129347               | 866                 | 862.07              | 487652         | 420390           | 6659209            | 8077           | 1011.81       | 824.47             | 13.89                 | 22.72                 |\n",
    "| Goa                         | 88.58                   | 88.7                    | 1458545       | 646868             | 82405                | 975                 | 973.04              | 369620         | 359653           | 1347647            | 3702           | 393.99        | 364.03             | 8.29                  | 8.23                  |\n",
    "| Gujarat                     | 76.39                   | 77.91                   | 60439692      | 1811057            | 513546               | 938                 | 919.19              | 1211242        | 1113361          | 50670953           | 196244         | 307.98        | 258.2              | 17.08                 | 19.28                 |\n",
    "| Haryana                     | 75.36                   | 75.43                   | 25351462      | 910642             | 296570               | 880                 | 878.56              | 642627         | 564585           | 21144594           | 44212          | 573.41        | 478.25             | 20.49                 | 19.9                  |\n",
    "| Himachal Pradesh            | 81.75                   | 82.77                   | 6864602       | 473465             | 98585                | 953                 | 971.45              | 290168         | 281883           | 6077952            | 55673          | 123.3         | 109.17             | 11.34                 | 12.94                 |\n",
    "| Jammu and Kashmir           | 65.38                   | 66.91                   | 12541302      | 381416             | 188643               | 883                 | 888.58              | 301846         | 268214           | 10143703           | 101387         | 123.7         | 100.05             | 24.27                 | 23.64                 |\n",
    "| Jharkhand                   | 64.74                   | 66.25                   | 32988134      | 910546             | 463959               | 956                 | 948.4               | 705453         | 669053           | 26945913           | 79716          | 413.82        | 338.02             | 23.78                 | 22.42                 |\n",
    "| Karnataka                   | 73.66                   | 75.25                   | 61095297      | 1532498            | 504012               | 984                 | 973.04              | 1032169        | 1004341          | 52850847           | 191791         | 318.55        | 275.56             | 11.86                 | 15.6                  |\n",
    "| Kerala                      | 93.69                   | 93.98                   | 33406061      | 2242540            | 143608               | 1080                | 1084.3              | 1144821        | 1241327          | 31841402           | 38852          | 859.83        | 819.56             | 4.13                  | 4.91                  |\n",
    "| Lakshadweep                 | 91.85                   | 91.85                   | 64473         | 59218              | 5255                 | 946                 | 946                 | 33131          | 31342            | 60652              | 30             | 2149.1        | 2021.73            | 6.3                   | 6.3                   |\n",
    "| Madhya Pradesh              | 67.81                   | 69.4                    | 69443702      | 1004016            | 442727               | 935                 | 929.87              | 749659         | 697085           | 57744814           | 292875         | 237.11        | 197.17             | 20.16                 | 20.26                 |\n",
    "| Maharashtra                 | 80.97                   | 82.27                   | 1.11E+08      | 2614552            | 563566               | 948                 | 929.13              | 1647434        | 1530683          | 95923519           | 307647         | 361.56        | 311.8              | 13.95                 | 15.96                 |\n",
    "| Manipur                     | 76.36                   | 76.92                   | 2855794       | 244060             | 73251                | 976                 | 985.04              | 159851         | 157459           | 2293890            | 22327          | 127.91        | 102.74             | 25.54                 | 24.5                  |\n",
    "| Meghalaya                   | 73.23                   | 74.32                   | 2966889       | 314993             | 108848               | 980                 | 988.77              | 213118         | 210724           | 2318863            | 22429          | 132.28        | 103.39             | 30.39                 | 27.95                 |\n",
    "| Mizoram                     | 89.36                   | 91.13                   | 1097206       | 124991             | 12160                | 966                 | 975.75              | 69417          | 67734            | 888561             | 21081          | 52.05         | 42.15              | 24.35                 | 23.48                 |\n",
    "| Nagaland                    | 78.4                    | 79.34                   | 1978502       | 142705             | 37159                | 934                 | 930.67              | 93162          | 86702            | 1047139            | 16579          | 119.34        | 63.16              | 82.28                 | 88.94                 |\n",
    "| Orissa                      | 70.84                   | 72.63                   | 41974218      | 1016227            | 382914               | 984                 | 978.77              | 707075         | 692066           | 36804447           | 155707         | 269.57        | 236.37             | 14.25                 | 14.05                 |\n",
    "| Puducherry                  | 87.46                   | 85.85                   | 1247953       | 267838             | 44151                | 1075                | 1037.12             | 153152         | 158837           | 974363             | 490            | 2546.84       | 1988.5             | 34.3                  | 28.08                 |\n",
    "| Punjab                      | 74.2                    | 75.52                   | 26748710      | 1063225            | 344602               | 898                 | 895.52              | 742714         | 665113           | 23612032           | 49268          | 542.92        | 479.26             | 12.66                 | 13.28                 |\n",
    "| Rajasthan                   | 64.6                    | 66.04                   | 68548437      | 1371738            | 705488               | 930                 | 928.13              | 1077326        | 999899           | 56507161           | 342239         | 200.29        | 165.11             | 21.13                 | 21.31                 |\n",
    "| Sikkim                      | 81.09                   | 80.9                    | 6682899       | 1802105            | 425528               | 852                 | 852.34              | 1202608        | 1025025          | 6028100            | 372            | 17964.78      | 16204.57           | 11.3                  | 10.86                 |\n",
    "| Tamil Nadu                  | 79.34                   | 80.08                   | 72147030      | 1805485            | 449110               | 999                 | 996.35              | 1129357        | 1125238          | 62405691           | 130060         | 554.72        | 479.82             | 14.62                 | 15.61                 |\n",
    "| Tripura                     | 86.64                   | 87.2                    | 3673917       | 800901             | 117579               | 958                 | 959.88              | 468641         | 449838           | 3199223            | 10486          | 350.36        | 305.09             | 16.75                 | 14.84                 |\n",
    "| Uttar Pradesh               | 67.39                   | 67.51                   | 1.98E+08      | 1909716            | 919086               | 910                 | 912.87              | 1478827        | 1349975          | 1.65E+08           | 237907         | 832.33        | 692.01             | 20.11                 | 20.28                 |\n",
    "| Uttarakhand                 | 79.64                   | 78.77                   | 10086292      | 611127             | 164742               | 1010                | 963.16              | 395214         | 380654           | 8489288            | 53483          | 188.59        | 158.73             | 13.06                 | 18.81                 |\n",
    "| West Bengal                 | 74.86                   | 76.12                   | 91276115      | 3656599            | 1147407              | 950                 | 949.91              | 2463705        | 2340301          | 80177140           | 88752          | 1028.44       | 903.38             | 14.13                 | 13.84                 |"
   ]
  },
  {
   "cell_type": "markdown",
   "id": "6abb87a1",
   "metadata": {},
   "source": [
    "#### TOP 3 state with highest & lowest Literate population"
   ]
  },
  {
   "cell_type": "code",
   "execution_count": null,
   "id": "f3e52d6f",
   "metadata": {},
   "outputs": [],
   "source": [
    "(SELECT * FROM census.data\n",
    "ORDER BY Literacy DESC\n",
    "LIMIT 3)\n",
    "UNION\n",
    "(SELECT * FROM census.data\n",
    "ORDER BY Literacy\n",
    "LIMIT 3);"
   ]
  },
  {
   "cell_type": "markdown",
   "id": "312945e9",
   "metadata": {},
   "source": [
    "| district | state          | Population | Area | Growth | Literacy | Sex_Ratio | Literate | Illiterate | Male   | Female | Prev_Population |\n",
    "| ----------- | -------------- | ---------- | ---- | ------ | -------- | --------- | -------- | ---------- | ------ | ------ | --------------- |\n",
    "| Serchhip    | Mizoram        | 64937      | 1421 | 20.56  | 97.91    | 977       | 63580    | 1357       | 32846  | 32091  | 53863           |\n",
    "| Aizawl      | Mizoram        | 400309     | 3576 | 22.92  | 97.89    | 1009      | 391862   | 8447       | 199258 | 201051 | 325666          |\n",
    "| Mahe        | Puducherry     | 41816      | 9    | 13.54  | 97.87    | 1184      | 40925    | 891        | 19147  | 22669  | 36829           |\n",
    "| Alirajpur   | Madhya Pradesh | 728999     | 3182 | 19.45  | 36.1     | 1011      | 263169   | 465830     | 362506 | 366493 | 610296          |\n",
    "| Bijapur     | Chhattisgarh   | 255230     | 8530 | 8.78   | 40.86    | 984       | 104287   | 150943     | 128644 | 126586 | 234630          |\n",
    "| Dantewada   | Chhattisgarh   | 533638     | 8298 | 12.08  | 42.12    | 1020      | 224768   | 308870     | 264177 | 269461 | 476122          |"
   ]
  },
  {
   "cell_type": "markdown",
   "id": "6558ae68",
   "metadata": {},
   "source": [
    "##### Similarly TOP 3  & BOTTOM 3 districts can be found as per growth & sex ratio"
   ]
  }
 ],
 "metadata": {
  "kernelspec": {
   "display_name": "Python 3 (ipykernel)",
   "language": "python",
   "name": "python3"
  },
  "language_info": {
   "codemirror_mode": {
    "name": "ipython",
    "version": 3
   },
   "file_extension": ".py",
   "mimetype": "text/x-python",
   "name": "python",
   "nbconvert_exporter": "python",
   "pygments_lexer": "ipython3",
   "version": "3.11.1"
  }
 },
 "nbformat": 4,
 "nbformat_minor": 5
}
