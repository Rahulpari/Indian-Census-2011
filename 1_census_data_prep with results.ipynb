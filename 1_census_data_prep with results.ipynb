{
 "cells": [
  {
   "cell_type": "markdown",
   "id": "66b28825",
   "metadata": {},
   "source": [
    "#### UNDERSTANDING THE DATA\n",
    "##### Create a schema 'census' and import table d1, d2 to the schema"
   ]
  },
  {
   "cell_type": "code",
   "execution_count": null,
   "id": "6026e8c7",
   "metadata": {},
   "outputs": [],
   "source": [
    "SELECT * FROM census.d1;\n",
    "SELECT * FROM census.d2;\n",
    "DESCRIBE census.d1;"
   ]
  },
  {
   "cell_type": "markdown",
   "id": "78d27508",
   "metadata": {},
   "source": [
    "| District   | text | YES |\n",
    "| ---------- | ---- | --- |\n",
    "| State      | text | YES |\n",
    "| Area_km2   | text | YES |\n",
    "| Population | text | YES |"
   ]
  },
  {
   "cell_type": "code",
   "execution_count": null,
   "id": "f70996c8",
   "metadata": {},
   "outputs": [],
   "source": [
    "DESCRIBE census.d2;"
   ]
  },
  {
   "cell_type": "markdown",
   "id": "2c881902",
   "metadata": {},
   "source": [
    "| District  | text   | YES |\n",
    "| --------- | ------ | --- |\n",
    "| State     | text   | YES |\n",
    "| Growth    | text   | YES |\n",
    "| Sex_Ratio | int    | YES |\n",
    "| Literacy  | double | YES |"
   ]
  },
  {
   "cell_type": "code",
   "execution_count": null,
   "id": "7a6c6b96",
   "metadata": {},
   "outputs": [],
   "source": [
    "SELECT COUNT(*) FROM census.d1; \n",
    "#636\n",
    "SELECT COUNT(district) FROM census.d1;\n",
    "#636\n",
    "SELECT COUNT(DISTINCT district) FROM census.d1;\n",
    "#630\n",
    "SELECT COUNT(*) FROM census.d2;\n",
    "#640\n",
    "SELECT COUNT(district) FROM census.d2;\n",
    "#640\n",
    "SELECT COUNT(DISTINCT district) FROM census.d2;\n",
    "#634"
   ]
  },
  {
   "cell_type": "markdown",
   "id": "2136d1a1",
   "metadata": {},
   "source": [
    "#### INVESTIGATING DUPLICATES IN census.d1"
   ]
  },
  {
   "cell_type": "code",
   "execution_count": null,
   "id": "2e4ebbce",
   "metadata": {},
   "outputs": [],
   "source": [
    "DROP TABLE IF EXISTS census.d1_new;\n",
    "CREATE TABLE census.d1_new\n",
    "\t(SELECT *, \n",
    "\t\t\tROW_NUMBER() \n",
    "            OVER(PARTITION BY district\n",
    "            ORDER BY district) AS dupp\n",
    "FROM census.d1);\n",
    "\n",
    "SELECT * FROM census.d1\n",
    "WHERE district IN (SELECT district FROM census.d1_new\n",
    "\t\t\t\t\tWHERE dupp>1)\n",
    "ORDER BY district;\n",
    "\n",
    "DROP TABLE census.d1_new;"
   ]
  },
  {
   "cell_type": "markdown",
   "id": "9937090e",
   "metadata": {},
   "source": [
    "| District   | State            | Area_km2 | Population |\n",
    "| ---------- | ---------------- | -------- | ---------- |\n",
    "| Aurangabad | Maharashtra      | 10,107   | 37,01,282  |\n",
    "| Aurangabad | Bihar            | 3,305    | 25,40,073  |\n",
    "| Bijapur    | Karnataka        | 10,498   | 21,77,331  |\n",
    "| Bijapur    | Chhattisgarh     | 8,530    | 2,55,230   |\n",
    "| Bilaspur   | Himachal Pradesh | 1,167    | 3,81,956   |\n",
    "| Bilaspur   | Chhattisgarh     | 8,272    | 26,63,629  |\n",
    "| Hamirpur   | Uttar Pradesh    | 4,021    | 11,04,285  |\n",
    "| Hamirpur   | Himachal Pradesh | 1,118    | 4,54,768   |\n",
    "| Pratapgarh | Uttar Pradesh    | 3,717    | 32,09,141  |\n",
    "| Pratapgarh | Rajasthan        | 4,449    | 8,67,848   |\n",
    "| Raigarh    | Maharashtra      | 7,086    | 14,93,984  |\n",
    "| Raigarh    | Chhattisgarh     | 7,152    | 26,34,200  |"
   ]
  },
  {
   "cell_type": "markdown",
   "id": "c532feb4",
   "metadata": {},
   "source": [
    "#### INVESTIGATING DUPLICATES IN census.d1"
   ]
  },
  {
   "cell_type": "code",
   "execution_count": null,
   "id": "1ca7e918",
   "metadata": {},
   "outputs": [],
   "source": [
    "DROP TABLE IF EXISTS census.d2_new;\n",
    "CREATE TABLE census.d2_new\n",
    "\t(SELECT *, \n",
    "\t\t\tROW_NUMBER() \n",
    "            OVER(PARTITION BY district\n",
    "            ORDER BY district) AS dupp\n",
    "FROM census.d2);\n",
    "\n",
    "SELECT * FROM census.d2\n",
    "WHERE district IN (SELECT district FROM census.d2_new\n",
    "\t\t\t\t\tWHERE dupp>1)\n",
    "ORDER BY district;\n",
    "\n",
    "DROP TABLE census.d2_new;"
   ]
  },
  {
   "cell_type": "markdown",
   "id": "645c8067",
   "metadata": {},
   "source": [
    "| District   | State            | Growth | Sex_Ratio | Literacy |\n",
    "| ---------- | ---------------- | ------ | --------- | -------- |\n",
    "| Aurangabad | Maharashtra      | 0      | 923       | 79.02    |\n",
    "| Aurangabad | Bihar            | 0      | 926       | 70.32    |\n",
    "| Bijapur    | Karnataka        | 0      | 960       | 67.15    |\n",
    "| Bijapur    | Chhattisgarh     | 0      | 984       | 40.86    |\n",
    "| Bilaspur   | Chhattisgarh     | 0      | 971       | 70.78    |\n",
    "| Bilaspur   | Himachal Pradesh | 0      | 981       | 84.59    |\n",
    "| Hamirpur   | Uttar Pradesh    | 0      | 861       | 68.77    |\n",
    "| Hamirpur   | Himachal Pradesh | 0      | 1,095     | 88.15    |\n",
    "| Pratapgarh | Uttar Pradesh    | 0      | 998       | 70.09    |\n",
    "| Pratapgarh | Rajasthan        | 0      | 983       | 55.97    |\n",
    "| Raigarh    | Maharashtra      | 0      | 959       | 83.14    |\n",
    "| Raigarh    | Chhattisgarh     | 0      | 991       | 73.26    |"
   ]
  },
  {
   "cell_type": "markdown",
   "id": "dc4e4ac8",
   "metadata": {},
   "source": [
    "#### d1 + d2 = data WITH TYPE CASTING"
   ]
  },
  {
   "cell_type": "code",
   "execution_count": null,
   "id": "c9af7e35",
   "metadata": {},
   "outputs": [],
   "source": [
    "DROP TABLE IF EXISTS census.data;\n",
    "CREATE TABLE census.data\n",
    "(\n",
    "SELECT \n",
    "\td2.district, \n",
    "\td2.state, \n",
    "    CAST(REPLACE(d1.Population,',','') AS UNSIGNED) AS Population, \n",
    "    CAST(REPLACE(d1.Area_km2,',','') AS UNSIGNED) AS Area, \n",
    "    CAST(REPLACE(d2.Growth,',','') AS DECIMAL(9,2)) AS  Growth, \n",
    "    d2.Literacy, \n",
    "    d2.Sex_Ratio\n",
    "FROM census.d1 RIGHT JOIN census.d2\n",
    "ON d1.district = d2.district AND d1.state = d2.state\n",
    "ORDER BY state\n",
    ");\n",
    "\n",
    "SELECT * FROM census.data;\n",
    "DESCRIBE census.data;\n",
    "\n",
    "DELETE FROM census.data WHERE population IS NULL;"
   ]
  },
  {
   "cell_type": "markdown",
   "id": "be04679d",
   "metadata": {},
   "source": [
    "| Field      | Type            | Null |\n",
    "| ---------- | --------------- | ---- |\n",
    "| district   | text            | YES  |\n",
    "| state      | text            | YES  |\n",
    "| Population | bigint unsigned | YES  |\n",
    "| Area       | bigint unsigned | YES  |\n",
    "| Growth     | decimal(9,2)    | YES  |\n",
    "| Literacy   | double          | YES  |\n",
    "| Sex_Ratio  | int             | YES  |\n"
   ]
  },
  {
   "cell_type": "markdown",
   "id": "bc528f3d",
   "metadata": {},
   "source": [
    "#### Update table with literacy_sex_growth data"
   ]
  },
  {
   "cell_type": "code",
   "execution_count": null,
   "id": "5897d0af",
   "metadata": {},
   "outputs": [],
   "source": [
    "DROP PROCEDURE IF EXISTS drop_literacy_sex_growth_data;\n",
    "DELIMITER //\n",
    "\n",
    "CREATE PROCEDURE drop_literacy_sex_growth_data() BEGIN\n",
    "IF EXISTS (SELECT * FROM information_schema.COLUMNS WHERE table_schema = 'census' AND COLUMN_NAME = 'Literate') \n",
    "THEN ALTER TABLE census.data DROP COLUMN Literate;\n",
    "END IF;\n",
    " \n",
    "IF EXISTS (SELECT * FROM information_schema.COLUMNS WHERE table_schema = 'census' AND COLUMN_NAME = 'Illiterate') \n",
    "THEN ALTER TABLE census.data DROP COLUMN Illiterate;\n",
    "END IF;\n",
    " \n",
    "IF EXISTS (SELECT * FROM information_schema.COLUMNS WHERE table_schema = 'census' AND COLUMN_NAME = 'Male') \n",
    "THEN ALTER TABLE census.data DROP COLUMN Male;\n",
    "END IF;\n",
    " \n",
    "IF EXISTS (SELECT * FROM information_schema.COLUMNS WHERE table_schema = 'census' AND COLUMN_NAME = 'Female') \n",
    "THEN ALTER TABLE census.data DROP COLUMN Female;\n",
    "END IF;\n",
    "\n",
    "IF EXISTS (SELECT * FROM information_schema.COLUMNS WHERE table_schema = 'census' AND COLUMN_NAME = 'Prev_Population') \n",
    "THEN ALTER TABLE census.data DROP COLUMN Prev_Population;\n",
    "END IF;\n",
    "\n",
    "ALTER TABLE census.data ADD COLUMN Literate INTEGER;\n",
    "ALTER TABLE census.data ADD COLUMN Illiterate INTEGER;\n",
    "ALTER TABLE census.data ADD COLUMN Male INTEGER;\n",
    "ALTER TABLE census.data ADD COLUMN Female INTEGER;\n",
    "ALTER TABLE census.data ADD COLUMN Prev_Population INTEGER;\n",
    "\n",
    "END//\n",
    "DELIMITER ;\n",
    "\n",
    "CALL drop_literacy_sex_growth_data;\n",
    "\n",
    "UPDATE census.data SET literate = literacy/100 * population;\n",
    "UPDATE census.data SET illiterate = population - literate;\n",
    "UPDATE census.data SET male = population/(1+sex_ratio/1000);\n",
    "UPDATE census.data SET female = population - male;\n",
    "UPDATE census.data SET Prev_Population = population/(1+growth/100);\n",
    "\n",
    "DESCRIBE census.data;"
   ]
  },
  {
   "cell_type": "markdown",
   "id": "49240c5d",
   "metadata": {},
   "source": [
    "| district        | text            | YES |\n",
    "| --------------- | --------------- | --- |\n",
    "| state           | text            | YES |\n",
    "| Population      | bigint unsigned | YES |\n",
    "| Area            | bigint unsigned | YES |\n",
    "| Growth          | decimal(9,2)    | YES |\n",
    "| Literacy        | double          | YES |\n",
    "| Sex_Ratio       | int             | YES |\n",
    "| Literate        | int             | YES |\n",
    "| Illiterate      | int             | YES |\n",
    "| Male            | int             | YES |\n",
    "| Female          | int             | YES |\n",
    "| Prev_Population | int             | YES |"
   ]
  },
  {
   "cell_type": "code",
   "execution_count": null,
   "id": "1b370b2f",
   "metadata": {},
   "outputs": [],
   "source": []
  }
 ],
 "metadata": {
  "kernelspec": {
   "display_name": "Python 3 (ipykernel)",
   "language": "python",
   "name": "python3"
  },
  "language_info": {
   "codemirror_mode": {
    "name": "ipython",
    "version": 3
   },
   "file_extension": ".py",
   "mimetype": "text/x-python",
   "name": "python",
   "nbconvert_exporter": "python",
   "pygments_lexer": "ipython3",
   "version": "3.11.1"
  }
 },
 "nbformat": 4,
 "nbformat_minor": 5
}
